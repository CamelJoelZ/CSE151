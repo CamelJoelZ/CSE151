{
 "cells": [
  {
   "cell_type": "code",
   "execution_count": 6,
   "metadata": {},
   "outputs": [],
   "source": [
    "import numpy as np\n",
    "# extracting data from projection.txt\n",
    "train_file = open(\"projection.txt\", \"r\")\n",
    "train_line = [line.strip() for line in train_file]\n",
    "train_line = [line.split() for line in train_line]\n",
    "projection = []\n",
    "for x in train_line:\n",
    "    projection.append([float (i) for i in x ])\n",
    "projection = np.asarray(projection)"
   ]
  },
  {
   "cell_type": "code",
   "execution_count": 7,
   "metadata": {},
   "outputs": [],
   "source": [
    "# extract data from train_file\n",
    "train_file = open(\"pa1train.txt\", \"r\")\n",
    "train_line = [line.strip() for line in train_file]\n",
    "train_line = [line.split() for line in train_line]\n",
    "tr_line = []\n",
    "for x in train_line:\n",
    "    tr_line.append([int (i) for i in x ])\n",
    "\n",
    "train_vector = np.asarray([y[:-1] for y in tr_line])"
   ]
  },
  {
   "cell_type": "code",
   "execution_count": 11,
   "metadata": {},
   "outputs": [
    {
     "data": {
      "text/plain": [
       "2000"
      ]
     },
     "execution_count": 11,
     "metadata": {},
     "output_type": "execute_result"
    }
   ],
   "source": [
    "\n",
    "a = np.dot(train_vector,projection)\n",
    "len(a)\n",
    "len(tr_line)"
   ]
  },
  {
   "cell_type": "code",
   "execution_count": 18,
   "metadata": {},
   "outputs": [
    {
     "name": "stdout",
     "output_type": "stream",
     "text": [
      "[[3 6]]\n"
     ]
    }
   ],
   "source": [
    "import numpy as np\n",
    "a=[[1,2],[1,2]] \n",
    "b=[[1,2]]\n",
    "print(np.matmul(b,a))"
   ]
  },
  {
   "cell_type": "code",
   "execution_count": 27,
   "metadata": {},
   "outputs": [
    {
     "data": {
      "text/plain": [
       "[[4, 5, 6]]"
      ]
     },
     "execution_count": 27,
     "metadata": {},
     "output_type": "execute_result"
    }
   ],
   "source": [
    "x = []\n",
    "y = [4,5,6]\n",
    "x.append(y)\n",
    "x"
   ]
  },
  {
   "cell_type": "code",
   "execution_count": null,
   "metadata": {},
   "outputs": [],
   "source": []
  }
 ],
 "metadata": {
  "kernelspec": {
   "display_name": "Python 3",
   "language": "python",
   "name": "python3"
  },
  "language_info": {
   "codemirror_mode": {
    "name": "ipython",
    "version": 3
   },
   "file_extension": ".py",
   "mimetype": "text/x-python",
   "name": "python",
   "nbconvert_exporter": "python",
   "pygments_lexer": "ipython3",
   "version": "3.7.0"
  }
 },
 "nbformat": 4,
 "nbformat_minor": 2
}
