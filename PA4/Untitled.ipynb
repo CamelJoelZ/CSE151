{
 "cells": [
  {
   "cell_type": "code",
   "execution_count": 1,
   "metadata": {},
   "outputs": [],
   "source": [
    "import numpy as np\n",
    "import random\n",
    "import math\n",
    "\n",
    "train_file = open(\"pa4train.txt\",\"r\")\n",
    "train = [line.strip() for line in train_file]\n",
    "train = [[int (i) for i in line.split()] for line in train]\n",
    "\n",
    "\n",
    "test_file = open(\"pa4test.txt\",\"r\")\n",
    "test = [line.strip() for line in test_file]\n",
    "test = [[int (i) for i in line.split()] for line in test]"
   ]
  },
  {
   "cell_type": "code",
   "execution_count": null,
   "metadata": {},
   "outputs": [],
   "source": [
    "def boosting(data,w,L):\n",
    "    \n",
    "    total = len(data)\n",
    "    \n",
    "    for i in range(len(data[0])):\n",
    "        include_notSpam = 0\n",
    "        notInclude_notSpam = 0\n",
    "        index = 0\n",
    "        maxVal = 0\n",
    "        prediction = 0\n",
    "        for j in range(len(data)):\n",
    "            if(data[j][i] == 1 && data[j][-1] == 1):\n",
    "                include_notSpam += 1\n",
    "            elif(data[j][i] == 0 && data[j][-1] == 1):\n",
    "                notInclude_notSpam += 1\n",
    "            elif(data[j][i] == 0 && data[j][-1] == -1):\n",
    "                include_notSpam += 1\n",
    "            elif(data[j][i] == 1 && data[j][-1] == -1):\n",
    "                notInclude_notSpam += 1\n",
    "                \n",
    "        if(include_notSpam > notInclude_notSpam):\n",
    "            if(w[i]*include_notSpam > maxVal):\n",
    "                index = i\n",
    "                maxVal = w[i]*include_notSpam\n",
    "                prediction = 1 # this means if word[i] is present it should predict 1\n",
    "                error_rate = include_notSpam/total\n",
    "        else:\n",
    "            if(w[i]*notInclude_notSpam > maxVal):\n",
    "                index = i\n",
    "                maxVal = w[i]*notInclude_notSpam\n",
    "                prediction = -1 # this means if word[i] is present it should predict -1\n",
    "                error_rate = notInclude_notSpam/total\n",
    "                \n",
    "    L += [(prediction,index)]\n",
    "    alpha_t = 0.5*(np.log((1-error_rate)/error_rate))\n",
    "    for i in range(len(w)):\n",
    "        w[i] = w[i]*\n",
    "    \n",
    "        "
   ]
  },
  {
   "cell_type": "code",
   "execution_count": null,
   "metadata": {},
   "outputs": [],
   "source": []
  }
 ],
 "metadata": {
  "kernelspec": {
   "display_name": "Python 3",
   "language": "python",
   "name": "python3"
  },
  "language_info": {
   "codemirror_mode": {
    "name": "ipython",
    "version": 3
   },
   "file_extension": ".py",
   "mimetype": "text/x-python",
   "name": "python",
   "nbconvert_exporter": "python",
   "pygments_lexer": "ipython3",
   "version": "3.7.0"
  }
 },
 "nbformat": 4,
 "nbformat_minor": 2
}
